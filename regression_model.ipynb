{
  "cells": [
    {
      "attachments": {},
      "cell_type": "markdown",
      "metadata": {
        "id": "1MRzHpR0UDMK"
      },
      "source": [
        "# Logistic Regression Model\n",
        "## Data Preperation"
      ]
    },
    {
      "cell_type": "code",
      "execution_count": 21,
      "metadata": {
        "colab": {
          "base_uri": "https://localhost:8080/",
          "height": 74
        },
        "id": "eoGvdrA6UDMM",
        "outputId": "9d9e48c5-458c-4a64-c316-19f4c0bb12f6"
      },
      "outputs": [
        {
          "data": {
            "text/html": [
              "<div>\n",
              "<style scoped>\n",
              "    .dataframe tbody tr th:only-of-type {\n",
              "        vertical-align: middle;\n",
              "    }\n",
              "\n",
              "    .dataframe tbody tr th {\n",
              "        vertical-align: top;\n",
              "    }\n",
              "\n",
              "    .dataframe thead th {\n",
              "        text-align: right;\n",
              "    }\n",
              "</style>\n",
              "<table border=\"1\" class=\"dataframe\">\n",
              "  <thead>\n",
              "    <tr style=\"text-align: right;\">\n",
              "      <th></th>\n",
              "      <th>home_points-per-game</th>\n",
              "      <th>away_points-per-game</th>\n",
              "      <th>home_true-shooting-percentage</th>\n",
              "      <th>away_true-shooting-percentage</th>\n",
              "      <th>home_offensive-rebounds-per-game</th>\n",
              "      <th>away_offensive-rebounds-per-game</th>\n",
              "      <th>home_defensive-rebounds-per-game</th>\n",
              "      <th>away_defensive-rebounds-per-game</th>\n",
              "      <th>home_steals-per-game</th>\n",
              "      <th>away_steals-per-game</th>\n",
              "      <th>home_assist--per--turnover-ratio</th>\n",
              "      <th>away_assist--per--turnover-ratio</th>\n",
              "      <th>home_personal-fouls-per-game</th>\n",
              "      <th>away_personal-fouls-per-game</th>\n",
              "      <th>home_win-pct-all-games</th>\n",
              "      <th>away_win-pct-all-games</th>\n",
              "      <th>home_win-pct-all-gamesLAST3</th>\n",
              "      <th>away_win-pct-all-gamesLAST3</th>\n",
              "    </tr>\n",
              "  </thead>\n",
              "  <tbody>\n",
              "    <tr>\n",
              "      <th>0</th>\n",
              "      <td>109.2</td>\n",
              "      <td>113.0</td>\n",
              "      <td>104.8</td>\n",
              "      <td>110.5</td>\n",
              "      <td>12.6</td>\n",
              "      <td>9.8</td>\n",
              "      <td>32.2</td>\n",
              "      <td>34.0</td>\n",
              "      <td>6.4</td>\n",
              "      <td>9.0</td>\n",
              "      <td>1.710</td>\n",
              "      <td>2.020</td>\n",
              "      <td>22.6</td>\n",
              "      <td>20.3</td>\n",
              "      <td>0.200</td>\n",
              "      <td>0.750</td>\n",
              "      <td>0.000</td>\n",
              "      <td>0.667</td>\n",
              "    </tr>\n",
              "    <tr>\n",
              "      <th>1</th>\n",
              "      <td>104.2</td>\n",
              "      <td>124.5</td>\n",
              "      <td>107.4</td>\n",
              "      <td>116.9</td>\n",
              "      <td>11.0</td>\n",
              "      <td>12.0</td>\n",
              "      <td>33.8</td>\n",
              "      <td>33.5</td>\n",
              "      <td>6.2</td>\n",
              "      <td>8.0</td>\n",
              "      <td>1.197</td>\n",
              "      <td>1.983</td>\n",
              "      <td>23.8</td>\n",
              "      <td>23.0</td>\n",
              "      <td>0.000</td>\n",
              "      <td>0.500</td>\n",
              "      <td>0.000</td>\n",
              "      <td>0.333</td>\n",
              "    </tr>\n",
              "    <tr>\n",
              "      <th>2</th>\n",
              "      <td>116.3</td>\n",
              "      <td>113.3</td>\n",
              "      <td>120.0</td>\n",
              "      <td>115.7</td>\n",
              "      <td>9.8</td>\n",
              "      <td>10.5</td>\n",
              "      <td>30.5</td>\n",
              "      <td>33.8</td>\n",
              "      <td>5.5</td>\n",
              "      <td>6.3</td>\n",
              "      <td>1.820</td>\n",
              "      <td>1.683</td>\n",
              "      <td>23.0</td>\n",
              "      <td>20.0</td>\n",
              "      <td>0.750</td>\n",
              "      <td>0.750</td>\n",
              "      <td>0.667</td>\n",
              "      <td>1.000</td>\n",
              "    </tr>\n",
              "    <tr>\n",
              "      <th>3</th>\n",
              "      <td>107.8</td>\n",
              "      <td>107.8</td>\n",
              "      <td>112.2</td>\n",
              "      <td>116.9</td>\n",
              "      <td>8.8</td>\n",
              "      <td>6.6</td>\n",
              "      <td>33.4</td>\n",
              "      <td>31.0</td>\n",
              "      <td>9.4</td>\n",
              "      <td>6.8</td>\n",
              "      <td>2.218</td>\n",
              "      <td>1.982</td>\n",
              "      <td>22.4</td>\n",
              "      <td>17.2</td>\n",
              "      <td>0.600</td>\n",
              "      <td>0.200</td>\n",
              "      <td>0.667</td>\n",
              "      <td>0.333</td>\n",
              "    </tr>\n",
              "    <tr>\n",
              "      <th>4</th>\n",
              "      <td>110.8</td>\n",
              "      <td>116.0</td>\n",
              "      <td>116.9</td>\n",
              "      <td>108.6</td>\n",
              "      <td>7.8</td>\n",
              "      <td>13.2</td>\n",
              "      <td>35.5</td>\n",
              "      <td>32.4</td>\n",
              "      <td>7.3</td>\n",
              "      <td>6.0</td>\n",
              "      <td>1.485</td>\n",
              "      <td>1.853</td>\n",
              "      <td>21.5</td>\n",
              "      <td>23.2</td>\n",
              "      <td>0.750</td>\n",
              "      <td>0.200</td>\n",
              "      <td>0.667</td>\n",
              "      <td>0.333</td>\n",
              "    </tr>\n",
              "    <tr>\n",
              "      <th>...</th>\n",
              "      <td>...</td>\n",
              "      <td>...</td>\n",
              "      <td>...</td>\n",
              "      <td>...</td>\n",
              "      <td>...</td>\n",
              "      <td>...</td>\n",
              "      <td>...</td>\n",
              "      <td>...</td>\n",
              "      <td>...</td>\n",
              "      <td>...</td>\n",
              "      <td>...</td>\n",
              "      <td>...</td>\n",
              "      <td>...</td>\n",
              "      <td>...</td>\n",
              "      <td>...</td>\n",
              "      <td>...</td>\n",
              "      <td>...</td>\n",
              "      <td>...</td>\n",
              "    </tr>\n",
              "    <tr>\n",
              "      <th>1101</th>\n",
              "      <td>110.5</td>\n",
              "      <td>116.5</td>\n",
              "      <td>109.9</td>\n",
              "      <td>114.9</td>\n",
              "      <td>13.3</td>\n",
              "      <td>9.9</td>\n",
              "      <td>32.8</td>\n",
              "      <td>35.6</td>\n",
              "      <td>7.2</td>\n",
              "      <td>6.5</td>\n",
              "      <td>1.368</td>\n",
              "      <td>1.760</td>\n",
              "      <td>20.6</td>\n",
              "      <td>18.2</td>\n",
              "      <td>0.244</td>\n",
              "      <td>0.507</td>\n",
              "      <td>0.333</td>\n",
              "      <td>0.667</td>\n",
              "    </tr>\n",
              "    <tr>\n",
              "      <th>1102</th>\n",
              "      <td>117.4</td>\n",
              "      <td>113.5</td>\n",
              "      <td>113.2</td>\n",
              "      <td>113.1</td>\n",
              "      <td>11.3</td>\n",
              "      <td>11.9</td>\n",
              "      <td>32.3</td>\n",
              "      <td>32.3</td>\n",
              "      <td>8.3</td>\n",
              "      <td>7.3</td>\n",
              "      <td>1.858</td>\n",
              "      <td>1.988</td>\n",
              "      <td>21.1</td>\n",
              "      <td>21.4</td>\n",
              "      <td>0.487</td>\n",
              "      <td>0.546</td>\n",
              "      <td>0.333</td>\n",
              "      <td>1.000</td>\n",
              "    </tr>\n",
              "    <tr>\n",
              "      <th>1103</th>\n",
              "      <td>112.3</td>\n",
              "      <td>116.0</td>\n",
              "      <td>117.2</td>\n",
              "      <td>115.0</td>\n",
              "      <td>9.7</td>\n",
              "      <td>10.2</td>\n",
              "      <td>31.4</td>\n",
              "      <td>31.4</td>\n",
              "      <td>7.1</td>\n",
              "      <td>7.8</td>\n",
              "      <td>1.868</td>\n",
              "      <td>1.812</td>\n",
              "      <td>18.9</td>\n",
              "      <td>21.2</td>\n",
              "      <td>0.615</td>\n",
              "      <td>0.436</td>\n",
              "      <td>0.333</td>\n",
              "      <td>0.333</td>\n",
              "    </tr>\n",
              "    <tr>\n",
              "      <th>1104</th>\n",
              "      <td>117.0</td>\n",
              "      <td>115.2</td>\n",
              "      <td>115.5</td>\n",
              "      <td>120.5</td>\n",
              "      <td>11.2</td>\n",
              "      <td>8.7</td>\n",
              "      <td>37.6</td>\n",
              "      <td>32.2</td>\n",
              "      <td>6.4</td>\n",
              "      <td>7.8</td>\n",
              "      <td>1.754</td>\n",
              "      <td>1.847</td>\n",
              "      <td>18.2</td>\n",
              "      <td>20.4</td>\n",
              "      <td>0.714</td>\n",
              "      <td>0.662</td>\n",
              "      <td>0.667</td>\n",
              "      <td>0.667</td>\n",
              "    </tr>\n",
              "    <tr>\n",
              "      <th>1105</th>\n",
              "      <td>116.1</td>\n",
              "      <td>118.3</td>\n",
              "      <td>119.8</td>\n",
              "      <td>118.9</td>\n",
              "      <td>10.0</td>\n",
              "      <td>10.3</td>\n",
              "      <td>32.9</td>\n",
              "      <td>33.8</td>\n",
              "      <td>7.4</td>\n",
              "      <td>7.1</td>\n",
              "      <td>2.012</td>\n",
              "      <td>1.825</td>\n",
              "      <td>18.6</td>\n",
              "      <td>21.4</td>\n",
              "      <td>0.662</td>\n",
              "      <td>0.526</td>\n",
              "      <td>0.333</td>\n",
              "      <td>0.667</td>\n",
              "    </tr>\n",
              "  </tbody>\n",
              "</table>\n",
              "<p>1106 rows × 18 columns</p>\n",
              "</div>"
            ],
            "text/plain": [
              "      home_points-per-game  away_points-per-game  \\\n",
              "0                    109.2                 113.0   \n",
              "1                    104.2                 124.5   \n",
              "2                    116.3                 113.3   \n",
              "3                    107.8                 107.8   \n",
              "4                    110.8                 116.0   \n",
              "...                    ...                   ...   \n",
              "1101                 110.5                 116.5   \n",
              "1102                 117.4                 113.5   \n",
              "1103                 112.3                 116.0   \n",
              "1104                 117.0                 115.2   \n",
              "1105                 116.1                 118.3   \n",
              "\n",
              "      home_true-shooting-percentage  away_true-shooting-percentage  \\\n",
              "0                             104.8                          110.5   \n",
              "1                             107.4                          116.9   \n",
              "2                             120.0                          115.7   \n",
              "3                             112.2                          116.9   \n",
              "4                             116.9                          108.6   \n",
              "...                             ...                            ...   \n",
              "1101                          109.9                          114.9   \n",
              "1102                          113.2                          113.1   \n",
              "1103                          117.2                          115.0   \n",
              "1104                          115.5                          120.5   \n",
              "1105                          119.8                          118.9   \n",
              "\n",
              "      home_offensive-rebounds-per-game  away_offensive-rebounds-per-game  \\\n",
              "0                                 12.6                               9.8   \n",
              "1                                 11.0                              12.0   \n",
              "2                                  9.8                              10.5   \n",
              "3                                  8.8                               6.6   \n",
              "4                                  7.8                              13.2   \n",
              "...                                ...                               ...   \n",
              "1101                              13.3                               9.9   \n",
              "1102                              11.3                              11.9   \n",
              "1103                               9.7                              10.2   \n",
              "1104                              11.2                               8.7   \n",
              "1105                              10.0                              10.3   \n",
              "\n",
              "      home_defensive-rebounds-per-game  away_defensive-rebounds-per-game  \\\n",
              "0                                 32.2                              34.0   \n",
              "1                                 33.8                              33.5   \n",
              "2                                 30.5                              33.8   \n",
              "3                                 33.4                              31.0   \n",
              "4                                 35.5                              32.4   \n",
              "...                                ...                               ...   \n",
              "1101                              32.8                              35.6   \n",
              "1102                              32.3                              32.3   \n",
              "1103                              31.4                              31.4   \n",
              "1104                              37.6                              32.2   \n",
              "1105                              32.9                              33.8   \n",
              "\n",
              "      home_steals-per-game  away_steals-per-game  \\\n",
              "0                      6.4                   9.0   \n",
              "1                      6.2                   8.0   \n",
              "2                      5.5                   6.3   \n",
              "3                      9.4                   6.8   \n",
              "4                      7.3                   6.0   \n",
              "...                    ...                   ...   \n",
              "1101                   7.2                   6.5   \n",
              "1102                   8.3                   7.3   \n",
              "1103                   7.1                   7.8   \n",
              "1104                   6.4                   7.8   \n",
              "1105                   7.4                   7.1   \n",
              "\n",
              "      home_assist--per--turnover-ratio  away_assist--per--turnover-ratio  \\\n",
              "0                                1.710                             2.020   \n",
              "1                                1.197                             1.983   \n",
              "2                                1.820                             1.683   \n",
              "3                                2.218                             1.982   \n",
              "4                                1.485                             1.853   \n",
              "...                                ...                               ...   \n",
              "1101                             1.368                             1.760   \n",
              "1102                             1.858                             1.988   \n",
              "1103                             1.868                             1.812   \n",
              "1104                             1.754                             1.847   \n",
              "1105                             2.012                             1.825   \n",
              "\n",
              "      home_personal-fouls-per-game  away_personal-fouls-per-game  \\\n",
              "0                             22.6                          20.3   \n",
              "1                             23.8                          23.0   \n",
              "2                             23.0                          20.0   \n",
              "3                             22.4                          17.2   \n",
              "4                             21.5                          23.2   \n",
              "...                            ...                           ...   \n",
              "1101                          20.6                          18.2   \n",
              "1102                          21.1                          21.4   \n",
              "1103                          18.9                          21.2   \n",
              "1104                          18.2                          20.4   \n",
              "1105                          18.6                          21.4   \n",
              "\n",
              "      home_win-pct-all-games  away_win-pct-all-games  \\\n",
              "0                      0.200                   0.750   \n",
              "1                      0.000                   0.500   \n",
              "2                      0.750                   0.750   \n",
              "3                      0.600                   0.200   \n",
              "4                      0.750                   0.200   \n",
              "...                      ...                     ...   \n",
              "1101                   0.244                   0.507   \n",
              "1102                   0.487                   0.546   \n",
              "1103                   0.615                   0.436   \n",
              "1104                   0.714                   0.662   \n",
              "1105                   0.662                   0.526   \n",
              "\n",
              "      home_win-pct-all-gamesLAST3  away_win-pct-all-gamesLAST3  \n",
              "0                           0.000                        0.667  \n",
              "1                           0.000                        0.333  \n",
              "2                           0.667                        1.000  \n",
              "3                           0.667                        0.333  \n",
              "4                           0.667                        0.333  \n",
              "...                           ...                          ...  \n",
              "1101                        0.333                        0.667  \n",
              "1102                        0.333                        1.000  \n",
              "1103                        0.333                        0.333  \n",
              "1104                        0.667                        0.667  \n",
              "1105                        0.333                        0.667  \n",
              "\n",
              "[1106 rows x 18 columns]"
            ]
          },
          "execution_count": 21,
          "metadata": {},
          "output_type": "execute_result"
        }
      ],
      "source": [
        "import pandas as pd\n",
        "import numpy as np\n",
        "from sklearn.model_selection import train_test_split\n",
        "from sklearn.preprocessing import StandardScaler\n",
        "\n",
        "# Filepath for CSV file with matchup data\n",
        "filename = 'matchups.csv'\n",
        "\n",
        "df = pd.read_csv(filename)\n",
        "\n",
        "X = df.drop(['outcome', 'id', 'date', 'home_team', 'away_team'], axis=1)\n",
        "y = df['outcome']\n",
        "ids = df['id']\n",
        "\n",
        "# Normalize the features\n",
        "scaler = StandardScaler()\n",
        "X_scaled = scaler.fit_transform(X)\n",
        "\n",
        "X_train, X_test, y_train, y_test, id_train, id_test = train_test_split(X_scaled, y, ids, test_size=0.2, shuffle=True)\n",
        "\n",
        "X\n"
      ]
    },
    {
      "attachments": {},
      "cell_type": "markdown",
      "metadata": {
        "id": "1SMwtuhkUtNV"
      },
      "source": [
        "## Create model with sklearn and make predictions"
      ]
    },
    {
      "cell_type": "code",
      "execution_count": 22,
      "metadata": {
        "id": "Uu2ixciYU5gm"
      },
      "outputs": [],
      "source": [
        "from sklearn.linear_model import LogisticRegression\n",
        "from sklearn.preprocessing import StandardScaler\n",
        "from sklearn.metrics import accuracy_score, confusion_matrix\n",
        "\n",
        "# Initialize and train the logistic regression model\n",
        "model = LogisticRegression()\n",
        "model.fit(X_train, y_train)\n",
        "\n",
        "# Make prediction\n",
        "y_pred = model.predict(X_test)\n",
        "\n",
        "accuracy = accuracy_score(y_test, y_pred)\n",
        "conf_matrix = confusion_matrix(y_test, y_pred)"
      ]
    },
    {
      "attachments": {},
      "cell_type": "markdown",
      "metadata": {
        "id": "7cuUrLgpVEyg"
      },
      "source": [
        "## Print out Accuracy, Confusion Matrix"
      ]
    },
    {
      "cell_type": "code",
      "execution_count": 23,
      "metadata": {
        "colab": {
          "base_uri": "https://localhost:8080/"
        },
        "id": "mJk9GVXoVrs1",
        "outputId": "c35e9024-188b-4954-9e83-da46c42721f0"
      },
      "outputs": [
        {
          "name": "stdout",
          "output_type": "stream",
          "text": [
            "\n",
            "Accuracy: 0.6441441441441441\n",
            "Confusion matrix:\n",
            "[38 55]\n",
            "[ 24 105]\n"
          ]
        }
      ],
      "source": [
        "print('\\nAccuracy:', accuracy)\n",
        "print(f'Confusion matrix:\\n{conf_matrix[0]}\\n{conf_matrix[1]}')"
      ]
    },
    {
      "attachments": {},
      "cell_type": "markdown",
      "metadata": {
        "id": "XF3HW8tCW5mQ"
      },
      "source": [
        "## Display coefficients"
      ]
    },
    {
      "cell_type": "code",
      "execution_count": 25,
      "metadata": {
        "colab": {
          "base_uri": "https://localhost:8080/",
          "height": 607
        },
        "id": "QyJkObQUXCj-",
        "outputId": "7f90e414-bb16-4c40-a893-05fcd81ffafc"
      },
      "outputs": [
        {
          "ename": "ModuleNotFoundError",
          "evalue": "No module named 'matplotlib'",
          "output_type": "error",
          "traceback": [
            "\u001b[0;31m---------------------------------------------------------------------------\u001b[0m",
            "\u001b[0;31mModuleNotFoundError\u001b[0m                       Traceback (most recent call last)",
            "Cell \u001b[0;32mIn[25], line 1\u001b[0m\n\u001b[0;32m----> 1\u001b[0m \u001b[39mimport\u001b[39;00m \u001b[39mmatplotlib\u001b[39;00m\u001b[39m.\u001b[39;00m\u001b[39mpyplot\u001b[39;00m \u001b[39mas\u001b[39;00m \u001b[39mplt\u001b[39;00m\n\u001b[1;32m      3\u001b[0m \u001b[39m# Sort the coefficients and labels together based on coefficients\u001b[39;00m\n\u001b[1;32m      4\u001b[0m coef \u001b[39m=\u001b[39m model\u001b[39m.\u001b[39mcoef_[\u001b[39m0\u001b[39m]\n",
            "\u001b[0;31mModuleNotFoundError\u001b[0m: No module named 'matplotlib'"
          ]
        }
      ],
      "source": [
        "import matplotlib.pyplot as plt\n",
        "\n",
        "# Sort the coefficients and labels together based on coefficients\n",
        "coef = model.coef_[0]\n",
        "sorted_data = sorted(zip(coef, X.columns), reverse=True)\n",
        "sorted_coef, sorted_labels = zip(*sorted_data)\n",
        "\n",
        "# Create a bar graph\n",
        "plt.figure(figsize=(10, 6))\n",
        "plt.bar(range(len(sorted_coef)), sorted_coef, align='center', alpha=0.7)\n",
        "plt.xticks(range(len(sorted_coef)), sorted_labels, rotation=45, ha='right')\n",
        "plt.xlabel('Features')\n",
        "plt.ylabel('Coefficients')\n",
        "plt.title('Sorted Feature Coefficients')\n",
        "plt.tight_layout()\n",
        "\n",
        "# Show the plot\n",
        "plt.show()"
      ]
    },
    {
      "attachments": {},
      "cell_type": "markdown",
      "metadata": {
        "id": "ImGPUMm5cKru"
      },
      "source": [
        "## ROC Curve (Receiver Operating Characteristic)"
      ]
    },
    {
      "cell_type": "code",
      "execution_count": 15,
      "metadata": {
        "colab": {
          "base_uri": "https://localhost:8080/",
          "height": 564
        },
        "id": "aBGkLViCcWBQ",
        "outputId": "edbb87e7-755e-476e-9028-ac47d67052fb"
      },
      "outputs": [
        {
          "data": {
            "image/png": "[encoded data removed]",
            "text/plain": [
              "<Figure size 800x600 with 1 Axes>"
            ]
          },
          "metadata": {},
          "output_type": "display_data"
        }
      ],
      "source": [
        "from sklearn.metrics import roc_curve, roc_auc_score\n",
        "import matplotlib.pyplot as plt\n",
        "\n",
        "# Get predicted probabilities for the positive class\n",
        "y_pred_prob = model.predict_proba(X_test)[:, 1]\n",
        "\n",
        "# Calculate ROC curve\n",
        "fpr, tpr, thresholds = roc_curve(y_test, y_pred_prob)\n",
        "\n",
        "# Plot ROC curve\n",
        "plt.figure(figsize=(8, 6))\n",
        "plt.plot(fpr, tpr, linestyle='--', marker='.')\n",
        "plt.xlabel('False Positive Rate (FPR)')\n",
        "plt.ylabel('True Positive Rate (TPR) or Recall')\n",
        "plt.title('ROC Curve')\n",
        "plt.show()"
      ]
    },
    {
      "cell_type": "code",
      "execution_count": 16,
      "metadata": {
        "colab": {
          "base_uri": "https://localhost:8080/"
        },
        "id": "YxaanXF7dLHs",
        "outputId": "72399548-f55c-47eb-d1d3-a0bf3d16b651"
      },
      "outputs": [
        {
          "name": "stdout",
          "output_type": "stream",
          "text": [
            "AUC-ROC Score: 0.6103968253968254\n"
          ]
        }
      ],
      "source": [
        "# AUC-ROC score: 0.5 -> Random Classifier, 1.0 -> Perfect Classifier\n",
        "auc = roc_auc_score(y_test, y_pred_prob)\n",
        "print(f'AUC-ROC Score: {auc}')"
      ]
    },
    {
      "attachments": {},
      "cell_type": "markdown",
      "metadata": {},
      "source": [
        "## Save the Model with Pickle"
      ]
    },
    {
      "cell_type": "code",
      "execution_count": 17,
      "metadata": {},
      "outputs": [
        {
          "data": {
            "text/plain": [
              "['finalized_model.sav']"
            ]
          },
          "execution_count": 17,
          "metadata": {},
          "output_type": "execute_result"
        }
      ],
      "source": [
        "from joblib import dump, load\n",
        "\n",
        "filename = 'finalized_model.sav'\n",
        "dump(model, filename)\n"
      ]
    }
  ],
  "metadata": {
    "colab": {
      "provenance": []
    },
    "kernelspec": {
      "display_name": "Python 3 (ipykernel)",
      "language": "python",
      "name": "python3"
    },
    "language_info": {
      "codemirror_mode": {
        "name": "ipython",
        "version": 3
      },
      "file_extension": ".py",
      "mimetype": "text/x-python",
      "name": "python",
      "nbconvert_exporter": "python",
      "pygments_lexer": "ipython3",
      "version": "3.9.6"
    }
  },
  "nbformat": 4,
  "nbformat_minor": 0
}
